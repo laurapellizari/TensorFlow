{
  "nbformat": 4,
  "nbformat_minor": 0,
  "metadata": {
    "colab": {
      "name": "TF_Multiple_Layers.ipynb",
      "provenance": [],
      "collapsed_sections": []
    },
    "kernelspec": {
      "name": "python3",
      "display_name": "Python 3"
    },
    "language_info": {
      "name": "python"
    }
  },
  "cells": [
    {
      "cell_type": "markdown",
      "metadata": {
        "id": "KFCKEjWz8Fto"
      },
      "source": [
        "**Import Libraries**"
      ]
    },
    {
      "cell_type": "code",
      "metadata": {
        "id": "4fCRH5yJ7UOS"
      },
      "source": [
        "%tensorflow_version 2.x\n",
        "import tensorflow as tf\n",
        "import numpy as np\n",
        "import math\n",
        "import matplotlib.pyplot as plt\n"
      ],
      "execution_count": null,
      "outputs": []
    },
    {
      "cell_type": "markdown",
      "metadata": {
        "id": "mTUdLLXN_POj"
      },
      "source": [
        "**Using 2 Layers**"
      ]
    },
    {
      "cell_type": "code",
      "metadata": {
        "id": "HfADudnB_Tdo"
      },
      "source": [
        "my_layer_1 = tf.keras.layers.Dense(units=2, input_shape=[1])\n",
        "my_layer_2 = tf.keras.layers.Dense(units=1)\n",
        "\n",
        "model = tf.keras.Sequential([my_layer_1, my_layer_2])\n",
        "model.compile(optimizer='sgd',loss='mean_squared_error')\n",
        "\n",
        "xs = np.array([-1.0,  0.0, 1.0, 2.0, 3.0, 4.0], dtype=float) \n",
        "ys = np.array([-3.0, -1.0, 1.0, 3.0, 5.0, 7.0], dtype=float)\n",
        "\n",
        "model.fit(xs, ys, epochs=500)"
      ],
      "execution_count": null,
      "outputs": []
    },
    {
      "cell_type": "code",
      "metadata": {
        "colab": {
          "base_uri": "https://localhost:8080/"
        },
        "id": "glEEUEXsALvo",
        "outputId": "ac48a8d2-a5fa-49b9-eaed-8a4d38e341a4"
      },
      "source": [
        "print(my_layer_1.get_weights())\n",
        "print(my_layer_2.get_weights())\n",
        "\n",
        "value = 10.0\n",
        "layer1_w1=(my_layer_1.get_weights()[0][0][0])\n",
        "layer1_w2=(my_layer_1.get_weights()[0][0][1])\n",
        "layer1_b1=(my_layer_1.get_weights()[1][0])\n",
        "layer1_b2=(my_layer_1.get_weights()[1][1])\n",
        "\n",
        "layer2_w1=(my_layer_2.get_weights()[0][0])\n",
        "layer2_w2=(my_layer_2.get_weights()[0][1])\n",
        "layer2_b=(my_layer_2.get_weights()[1][0])\n",
        "\n",
        "neuron1_output = (layer1_w1 * value)+ layer1_b1\n",
        "neuron2_output = (layer1_w2 * value)+ layer1_b2\n",
        "\n",
        "neuron3_output = (layer2_w1 * neuron1_output)+ (layer2_w2*neuron2_output)\n",
        "+layer2_b\n",
        "\n",
        "print(neuron3_output)"
      ],
      "execution_count": null,
      "outputs": [
        {
          "output_type": "stream",
          "text": [
            "[array([[-0.6739398, -1.4398186]], dtype=float32), array([0.0444582 , 0.49383038], dtype=float32)]\n",
            "[array([[ 0.13646397],\n",
            "       [-1.4529386 ]], dtype=float32), array([-0.28856057], dtype=float32)]\n",
            "[19.288557]\n"
          ],
          "name": "stdout"
        }
      ]
    },
    {
      "cell_type": "markdown",
      "metadata": {
        "id": "J7grbnsZEnuE"
      },
      "source": [
        "**Using 5 Layers**"
      ]
    },
    {
      "cell_type": "code",
      "metadata": {
        "id": "tLlNs0MdEtzh"
      },
      "source": [
        "my_layer_5 = tf.keras.layers.Dense(units=5, input_shape=[1])\n",
        "my_layer_4 = tf.keras.layers.Dense(units=4, input_shape=[5])\n",
        "my_layer_3 = tf.keras.layers.Dense(units=3, input_shape=[4])\n",
        "my_layer_2 = tf.keras.layers.Dense(units=2, input_shape=[3])\n",
        "my_layer_1 = tf.keras.layers.Dense(units=1, input_shape=[2])\n",
        "\n",
        "model = tf.keras.Sequential([my_layer_5, my_layer_4,  my_layer_3, \n",
        "                             my_layer_2, my_layer_1])\n",
        "\n",
        "model.compile(optimizer='sgd',loss='mean_squared_error')\n",
        "\n",
        "xs = np.array([-1.0,  0.0, 1.0, 2.0, 3.0, 4.0], dtype=float) \n",
        "ys = np.array([-3.0, -1.0, 1.0, 3.0, 5.0, 7.0], dtype=float)\n",
        "\n",
        "model.fit(xs, ys, epochs=500)"
      ],
      "execution_count": null,
      "outputs": []
    },
    {
      "cell_type": "code",
      "metadata": {
        "id": "XVXVDYZiFuZd",
        "colab": {
          "base_uri": "https://localhost:8080/"
        },
        "outputId": "b6b3f727-9655-4bfa-b380-fbb2472b6265"
      },
      "source": [
        "print(my_layer_5.get_weights())\n",
        "print(my_layer_4.get_weights())\n",
        "print(my_layer_3.get_weights())\n",
        "print(my_layer_2.get_weights())\n",
        "print(my_layer_1.get_weights())"
      ],
      "execution_count": null,
      "outputs": [
        {
          "output_type": "stream",
          "text": [
            "[array([[ 0.15700819,  0.9004222 , -0.51567745, -0.07540596, -0.03590501]],\n",
            "      dtype=float32), array([ 0.03924896, -0.12575415,  0.11842174,  0.03409361, -0.0196615 ],\n",
            "      dtype=float32)]\n",
            "[array([[-0.00812384, -0.7355404 , -0.21766184,  0.20238163],\n",
            "       [ 0.24864736,  0.39995727, -0.42214155, -0.1922927 ],\n",
            "       [-0.76631254, -0.1142942 ,  0.08921442,  0.25145593],\n",
            "       [-0.181797  ,  0.80164576,  0.5918255 ,  0.39904314],\n",
            "       [-0.15536329, -0.64039767, -0.62329865, -0.5186096 ]],\n",
            "      dtype=float32), array([-0.09259818, -0.0671301 ,  0.0742494 ,  0.06629817], dtype=float32)]\n",
            "[array([[ 0.4598074 ,  0.35816064,  0.9003097 ],\n",
            "       [ 0.1515386 ,  0.5152122 ,  0.73404616],\n",
            "       [-0.1166034 ,  0.11059058, -0.8814736 ],\n",
            "       [-0.45178586, -0.01904593, -0.65434885]], dtype=float32), array([-0.03343582, -0.00616741, -0.07589284], dtype=float32)]\n",
            "[array([[ 1.0973816 , -0.99793863],\n",
            "       [ 0.53982747, -0.8723275 ],\n",
            "       [ 0.97444576,  0.4693026 ]], dtype=float32), array([-0.05466592, -0.02972643], dtype=float32)]\n",
            "[array([[1.0066639 ],\n",
            "       [0.66283524]], dtype=float32), array([-0.04550039], dtype=float32)]\n"
          ],
          "name": "stdout"
        }
      ]
    },
    {
      "cell_type": "code",
      "metadata": {
        "id": "KYD9fjM4GPwu",
        "colab": {
          "base_uri": "https://localhost:8080/"
        },
        "outputId": "f250e1f2-8ceb-48b5-da01-d1295af6e266"
      },
      "source": [
        "value = 10.0\n",
        "\n",
        "# Layer 5\n",
        "layer_5_w = []\n",
        "layer_5_b = []\n",
        "neuron5_output = [] \n",
        "for i in range(0,5):\n",
        "  w5 = (my_layer_5.get_weights()[0][0][i])\n",
        "  b5 = (my_layer_5.get_weights()[1][i])\n",
        "  layer_5_w.append(w5) \n",
        "  layer_5_b.append(b5)\n",
        "  out5 = (layer_5_w[i] * value)+ layer_5_b[i]\n",
        "  neuron5_output.append(out5)\n",
        "\n",
        "\n",
        "# Layer 4\n",
        "layer_4_w = []\n",
        "layer_4_b = []\n",
        "neuron4_output = []\n",
        "for j in range(0,5):\n",
        "  for i in range(0,4):\n",
        "    w4 = (my_layer_4.get_weights()[0][j][i])\n",
        "    layer_4_w.append(w4)\n",
        "    b4 = (my_layer_4.get_weights()[1][i])\n",
        "    layer_4_b.append(b4) \n",
        "    out4 = (layer_4_w[i] * neuron5_output[i])+ layer_4_b[i]\n",
        "    neuron4_output.append(out4)\n",
        "\n",
        "\n",
        "print(\"Layer  4 w:\",layer_4_w)\n",
        "print(\"Layer  4 b:\",layer_4_b)\n",
        "print(neuron4_output)\n",
        "# Layer 3\n",
        "layer_3_w = []\n",
        "layer_3_b = []\n",
        "neuron3_output = []\n",
        "for j in range(0,4):\n",
        "  for i in range(0,3):\n",
        "    w3 = (my_layer_3.get_weights()[0][j][i])\n",
        "    layer_3_w.append(w3)\n",
        "    b3 = (my_layer_3.get_weights()[1][i])\n",
        "    layer_3_b.append(b3)\n",
        "    out3 = (layer_3_w[i] * neuron4_output[i])+ layer_3_b[i]\n",
        "    neuron3_output.append(out3) \n",
        "\n",
        "# Layer 2\n",
        "layer_2_w = []\n",
        "layer_2_b = []\n",
        "neuron2_output = []\n",
        "for j in range(0,3):\n",
        "  for i in range(0,2):\n",
        "    w2 = (my_layer_2.get_weights()[0][j][i])\n",
        "    layer_2_w.append(w2)\n",
        "    b2 = (my_layer_2.get_weights()[1][i])\n",
        "    layer_2_b.append(b2)\n",
        "    out2 = (layer_2_w[i] * neuron3_output[i])+ layer_2_b[i]\n",
        "    neuron2_output.append(out2) \n",
        "\n",
        "# Layer 1\n",
        "layer_1_w = []\n",
        "layer_1_b = []\n",
        "neuron1_output = []\n",
        "for j in range(0,2):\n",
        "  for i in range(0,1):\n",
        "    w1 = (my_layer_1.get_weights()[0][j][i])\n",
        "    layer_1_w.append(w1)\n",
        "    b1 = (my_layer_1.get_weights()[1][i])\n",
        "    layer_1_b.append(b1) \n",
        "    out1 = (layer_1_w[i] * neuron2_output[i])+ layer_1_b[i]\n",
        "    neuron1_output.append(out1)\n",
        "\n",
        "neuron_output = (layer_1_w[0] * neuron1_output[0]) + (layer_1_w[1] * neuron1_output[0]) + layer_1_b[0]\n",
        "\n",
        "print(neuron_output)\n"
      ],
      "execution_count": null,
      "outputs": [
        {
          "output_type": "stream",
          "text": [
            "Layer  4 w: [-0.008123839, -0.7355404, -0.21766184, 0.20238163, 0.24864736, 0.39995727, -0.42214155, -0.1922927, -0.76631254, -0.1142942, 0.08921442, 0.25145593, -0.181797, 0.80164576, 0.5918255, 0.39904314, -0.15536329, -0.64039767, -0.62329865, -0.5186096]\n",
            "Layer  4 b: [-0.092598185, -0.0671301, 0.0742494, 0.06629817, -0.092598185, -0.0671301, 0.0742494, 0.06629817, -0.092598185, -0.0671301, 0.0742494, 0.06629817, -0.092598185, -0.0671301, 0.0742494, 0.06629817, -0.092598185, -0.0671301, 0.0742494, 0.06629817]\n",
            "[-0.10567212987813185, -6.597601924197818, 1.1709065519848805, -0.07940970525157992, -0.10567212987813185, -6.597601924197818, 1.1709065519848805, -0.07940970525157992, -0.10567212987813185, -6.597601924197818, 1.1709065519848805, -0.07940970525157992, -0.10567212987813185, -6.597601924197818, 1.1709065519848805, -0.07940970525157992, -0.10567212987813185, -6.597601924197818, 1.1709065519848805, -0.07940970525157992]\n",
            "-0.364613085244959\n"
          ],
          "name": "stdout"
        }
      ]
    },
    {
      "cell_type": "markdown",
      "metadata": {
        "id": "Eex3_RzqDZnx"
      },
      "source": [
        "**Using 3 Layers**"
      ]
    },
    {
      "cell_type": "code",
      "metadata": {
        "id": "4JWITc3oDdYF"
      },
      "source": [
        "my_layer_1 = tf.keras.layers.Dense(units=2, input_shape=[1])\n",
        "my_layer_2 = tf.keras.layers.Dense(units=2, input_shape=[1])\n",
        "my_layer_3 = tf.keras.layers.Dense(units=1)\n",
        "\n",
        "model = tf.keras.Sequential([my_layer_1, my_layer_2,  my_layer_3])\n",
        "\n",
        "model.compile(optimizer='sgd',loss='mean_squared_error')\n",
        "\n",
        "xs = np.array([-1.0,  0.0, 1.0, 2.0, 3.0, 4.0], dtype=float) \n",
        "ys = np.array([-3.0, -1.0, 1.0, 3.0, 5.0, 7.0], dtype=float)\n",
        "\n",
        "model.fit(xs, ys, epochs=500)"
      ],
      "execution_count": null,
      "outputs": []
    },
    {
      "cell_type": "code",
      "metadata": {
        "colab": {
          "base_uri": "https://localhost:8080/"
        },
        "id": "vVnAZTG2EVYl",
        "outputId": "02267816-c196-4421-cd0b-5a42528863ff"
      },
      "source": [
        "print(my_layer_1.get_weights())\n",
        "print(my_layer_2.get_weights())\n",
        "print(my_layer_3.get_weights())\n",
        "\n",
        "value = 10.0\n",
        "layer1_w1=(my_layer_1.get_weights()[0][0][0])\n",
        "layer1_w2=(my_layer_1.get_weights()[0][0][1])\n",
        "layer1_b1=(my_layer_1.get_weights()[1][0])\n",
        "layer1_b2=(my_layer_1.get_weights()[1][1])\n",
        "\n",
        "layer2_w1=(my_layer_2.get_weights()[0][0][0])\n",
        "layer2_w2=(my_layer_2.get_weights()[0][0][1])\n",
        "layer2_b1=(my_layer_2.get_weights()[1][0])\n",
        "layer2_b2=(my_layer_2.get_weights()[1][1])\n",
        "\n",
        "layer3_w1=(my_layer_3.get_weights()[0][0])\n",
        "layer3_w2=(my_layer_3.get_weights()[0][1])\n",
        "layer3_b=(my_layer_3.get_weights()[1][0])\n",
        "\n",
        "layer_1_out_1= (layer1_w1 * value)+ layer1_b1\n",
        "layer_1_out_2 = (layer1_w2 * value)+ layer1_b2\n",
        "\n",
        "layer_2_out_1= (layer1_w1 * layer_1_out_1)+ layer2_b1\n",
        "layer_2_out_2 = (layer1_w2 * layer_1_out_2)+ layer2_b2\n",
        "\n",
        "\n",
        "neuron3_output = (layer3_w1 * layer_2_out_1)+ (layer3_w2*layer_2_out_2) + layer3_b\n",
        "\n",
        "print(neuron3_output)"
      ],
      "execution_count": 198,
      "outputs": [
        {
          "output_type": "stream",
          "text": [
            "[array([[-1.0363276 ,  0.02723144]], dtype=float32), array([ 0.3085935 , -0.04300129], dtype=float32)]\n",
            "[array([[-1.075841 ,  0.5922968],\n",
            "       [ 1.0545946,  0.9754972]], dtype=float32), array([-0.15005265,  0.11558396], dtype=float32)]\n",
            "[array([[ 1.2045163],\n",
            "       [-1.0599663]], dtype=float32), array([-0.09294721], dtype=float32)]\n",
            "[12.148171]\n"
          ],
          "name": "stdout"
        }
      ]
    }
  ]
}